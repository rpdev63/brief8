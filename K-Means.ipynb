{
 "cells": [
  {
   "cell_type": "markdown",
   "id": "dac1d30c",
   "metadata": {},
   "source": [
    "<div style='background :cyan; color:black; padding: 10px; border:2px solid black; text-align:center; border-radius :5px'>\n",
    "    <h1>Le modèle K-Means</h1>\n",
    "</div>"
   ]
  },
  {
   "cell_type": "markdown",
   "id": "6b0e52e3",
   "metadata": {},
   "source": [
    "<h1>Objectif :</h1>\n",
    "\n",
    "<h3>Trouver des groupes de fleurs, sans information préalable sur le type de fleur disponible dans le dataset (de manière aveugle)</h3>\n",
    "<p>Pour explorer la structure d'un dataset qui n'a pas de valeurs claires à optimiser, nous devons utiliser des techniques d'apprentissage non supervisé.  </p>\n",
    "\n",
    "<p>Il existe plusieurs façons de regrouper des données, mais nous nous interessons au clustering K-Means qui est un algorithme de clustering populaire basé sur le centroïde.   </p>"
   ]
  },
  {
   "cell_type": "markdown",
   "id": "6ed0485e",
   "metadata": {},
   "source": [
    "## Fonctionnement     \n",
    "\n",
    "<p> La méthode des kmeans repose sur <strong>la minimisation de la somme des distances euclidiennes au carré </strong>entre chaque objet (ou sujet, ou point) et le centroïde (le point central) de son cluster.</p>\n",
    "\n",
    "<br>\n",
    "<p style=\"text-align:center\">Génération de centroides aléatoires</p>\n",
    "<img src=\"img/centroid.png\" width=40%/>\n",
    "\n",
    "<p style=\"font-size:0.8em; text-align:center\">Calcul de la distance euclidienne pour chaque point afin de faire des premiers regroupements</p>\n",
    "<img src=\"img/centroid2.png\" width=40%/>\n",
    "<br>\n",
    "<p>Une fois nos premiers clusters trouvés, on redéfinit la position des centroides en moyennant la position de chacun des points du clusters. Puis on recommence l'étape précédente afin de redéfinir nos clusters, etc...</p>\n",
    "\n",
    "<p>Au bout de quelques itérations on ne voit plus de changements massifs dans la composition des clusters </p>\n",
    "<img src=\"img/centroid3.png\" width=40%/>\n",
    "<img src=\"img/centroid4.png\" width=40%/>\n",
    "\n",
    "<p>Le résultat final, c’est-à-dire l’appartenance de chaque objet (ou sujet ou point) à un cluster donné peut dépendre de l’attribution initiale aléatoire des clusters qui a lieu dans la première étape de l’algorithme. </p>\n",
    "\n",
    "<p>Pour contourner cette difficulté, il est nécessaire de lancer plusieurs fois l’algorithme et de regarder si la composition des clusters est modifiée ou non.</p>\n",
    "\n",
    "<p>La fonction kmeans() que nous utiliseront réalise automatiquement ces multiples attributions aléatoires, et conservent  les meilleurs résultats. </p>\n",
    "<br>\n",
    "<p>Le K de K-Means fait référence aux nombres de clusters dans lequel nous voulons segmenter nos données.   \n",
    "La partie délicate du K-Means consiste à bien choisir cette valeur K.</p>"
   ]
  },
  {
   "cell_type": "markdown",
   "id": "0020ba5b",
   "metadata": {},
   "source": [
    "## Imports"
   ]
  },
  {
   "cell_type": "code",
   "execution_count": 16,
   "id": "acc65349",
   "metadata": {},
   "outputs": [],
   "source": [
    "import pandas as pd \n",
    "from matplotlib import pyplot as plt\n",
    "from sklearn.cluster import KMeans\n",
    "from sklearn.datasets import load_iris\n",
    "from sklearn.decomposition import PCA\n",
    "from sklearn.preprocessing import StandardScaler"
   ]
  },
  {
   "cell_type": "markdown",
   "id": "26e814a3",
   "metadata": {},
   "source": [
    "### Informations sur les données"
   ]
  },
  {
   "cell_type": "code",
   "execution_count": 17,
   "id": "74fa7995",
   "metadata": {},
   "outputs": [
    {
     "name": "stdout",
     "output_type": "stream",
     "text": [
      ".. _iris_dataset:\n",
      "\n",
      "Iris plants dataset\n",
      "--------------------\n",
      "\n",
      "**Data Set Characteristics:**\n",
      "\n",
      "    :Number of Instances: 150 (50 in each of three classes)\n",
      "    :Number of Attributes: 4 numeric, predictive attributes and the class\n",
      "    :Attribute Information:\n",
      "        - sepal length in cm\n",
      "        - sepal width in cm\n",
      "        - petal length in cm\n",
      "        - petal width in cm\n",
      "        - class:\n",
      "                - Iris-Setosa\n",
      "                - Iris-Versicolour\n",
      "                - Iris-Virginica\n",
      "                \n",
      "    :Summary Statistics:\n",
      "\n",
      "    ============== ==== ==== ======= ===== ====================\n",
      "                    Min  Max   Mean    SD   Class Correlation\n",
      "    ============== ==== ==== ======= ===== ====================\n",
      "    sepal length:   4.3  7.9   5.84   0.83    0.7826\n",
      "    sepal width:    2.0  4.4   3.05   0.43   -0.4194\n",
      "    petal length:   1.0  6.9   3.76   1.76    0.9490  (high!)\n",
      "    petal width:    0.1  2.5   1.20   0.76    0.9565  (high!)\n",
      "    ============== ==== ==== ======= ===== ====================\n",
      "\n",
      "    :Missing Attribute Values: None\n",
      "    :Class Distribution: 33.3% for each of 3 classes.\n",
      "    :Creator: R.A. Fisher\n",
      "    :Donor: Michael Marshall (MARSHALL%PLU@io.arc.nasa.gov)\n",
      "    :Date: July, 1988\n",
      "\n",
      "The famous Iris database, first used by Sir R.A. Fisher. The dataset is taken\n",
      "from Fisher's paper. Note that it's the same as in R, but not as in the UCI\n",
      "Machine Learning Repository, which has two wrong data points.\n",
      "\n",
      "This is perhaps the best known database to be found in the\n",
      "pattern recognition literature.  Fisher's paper is a classic in the field and\n",
      "is referenced frequently to this day.  (See Duda & Hart, for example.)  The\n",
      "data set contains 3 classes of 50 instances each, where each class refers to a\n",
      "type of iris plant.  One class is linearly separable from the other 2; the\n",
      "latter are NOT linearly separable from each other.\n",
      "\n",
      ".. topic:: References\n",
      "\n",
      "   - Fisher, R.A. \"The use of multiple measurements in taxonomic problems\"\n",
      "     Annual Eugenics, 7, Part II, 179-188 (1936); also in \"Contributions to\n",
      "     Mathematical Statistics\" (John Wiley, NY, 1950).\n",
      "   - Duda, R.O., & Hart, P.E. (1973) Pattern Classification and Scene Analysis.\n",
      "     (Q327.D83) John Wiley & Sons.  ISBN 0-471-22361-1.  See page 218.\n",
      "   - Dasarathy, B.V. (1980) \"Nosing Around the Neighborhood: A New System\n",
      "     Structure and Classification Rule for Recognition in Partially Exposed\n",
      "     Environments\".  IEEE Transactions on Pattern Analysis and Machine\n",
      "     Intelligence, Vol. PAMI-2, No. 1, 67-71.\n",
      "   - Gates, G.W. (1972) \"The Reduced Nearest Neighbor Rule\".  IEEE Transactions\n",
      "     on Information Theory, May 1972, 431-433.\n",
      "   - See also: 1988 MLC Proceedings, 54-64.  Cheeseman et al\"s AUTOCLASS II\n",
      "     conceptual clustering system finds 3 classes in the data.\n",
      "   - Many, many more ...\n"
     ]
    }
   ],
   "source": [
    "iris = load_iris()\n",
    "print(iris.DESCR)"
   ]
  },
  {
   "cell_type": "markdown",
   "id": "dc65a46d",
   "metadata": {},
   "source": [
    "### Création d'un dataset"
   ]
  },
  {
   "cell_type": "code",
   "execution_count": 18,
   "id": "71773ca2",
   "metadata": {},
   "outputs": [
    {
     "data": {
      "text/html": [
       "<div>\n",
       "<style scoped>\n",
       "    .dataframe tbody tr th:only-of-type {\n",
       "        vertical-align: middle;\n",
       "    }\n",
       "\n",
       "    .dataframe tbody tr th {\n",
       "        vertical-align: top;\n",
       "    }\n",
       "\n",
       "    .dataframe thead th {\n",
       "        text-align: right;\n",
       "    }\n",
       "</style>\n",
       "<table border=\"1\" class=\"dataframe\">\n",
       "  <thead>\n",
       "    <tr style=\"text-align: right;\">\n",
       "      <th></th>\n",
       "      <th>sepal length (cm)</th>\n",
       "      <th>sepal width (cm)</th>\n",
       "      <th>petal length (cm)</th>\n",
       "      <th>petal width (cm)</th>\n",
       "    </tr>\n",
       "  </thead>\n",
       "  <tbody>\n",
       "    <tr>\n",
       "      <th>0</th>\n",
       "      <td>5.1</td>\n",
       "      <td>3.5</td>\n",
       "      <td>1.4</td>\n",
       "      <td>0.2</td>\n",
       "    </tr>\n",
       "    <tr>\n",
       "      <th>1</th>\n",
       "      <td>4.9</td>\n",
       "      <td>3.0</td>\n",
       "      <td>1.4</td>\n",
       "      <td>0.2</td>\n",
       "    </tr>\n",
       "    <tr>\n",
       "      <th>2</th>\n",
       "      <td>4.7</td>\n",
       "      <td>3.2</td>\n",
       "      <td>1.3</td>\n",
       "      <td>0.2</td>\n",
       "    </tr>\n",
       "    <tr>\n",
       "      <th>3</th>\n",
       "      <td>4.6</td>\n",
       "      <td>3.1</td>\n",
       "      <td>1.5</td>\n",
       "      <td>0.2</td>\n",
       "    </tr>\n",
       "    <tr>\n",
       "      <th>4</th>\n",
       "      <td>5.0</td>\n",
       "      <td>3.6</td>\n",
       "      <td>1.4</td>\n",
       "      <td>0.2</td>\n",
       "    </tr>\n",
       "  </tbody>\n",
       "</table>\n",
       "</div>"
      ],
      "text/plain": [
       "   sepal length (cm)  sepal width (cm)  petal length (cm)  petal width (cm)\n",
       "0                5.1               3.5                1.4               0.2\n",
       "1                4.9               3.0                1.4               0.2\n",
       "2                4.7               3.2                1.3               0.2\n",
       "3                4.6               3.1                1.5               0.2\n",
       "4                5.0               3.6                1.4               0.2"
      ]
     },
     "execution_count": 18,
     "metadata": {},
     "output_type": "execute_result"
    }
   ],
   "source": [
    "# Les caractéristiques de notre études\n",
    "df = pd.DataFrame(iris.data, columns = iris.feature_names)\n",
    "df.head()"
   ]
  },
  {
   "cell_type": "markdown",
   "id": "27568db4",
   "metadata": {},
   "source": [
    "## Standardisation des données\n",
    "Avant d’employer l’approche des kmeans, il est nécessaire de standardiser (centrage réduction) les données.  \n",
    "\n",
    "Cela aura un impact sur les performances du modèle, car cela donnera une pondération plus élevée aux variables qui ont une ampleur plus élevée.  \n",
    "Par conséquent, il est toujours conseillé d'amener toutes les caractéristiques à la même échelle pour appliquer des algorithmes basés sur la distance comme KNN ou K-Means."
   ]
  },
  {
   "cell_type": "code",
   "execution_count": 19,
   "id": "0316effb",
   "metadata": {},
   "outputs": [
    {
     "data": {
      "text/html": [
       "<div>\n",
       "<style scoped>\n",
       "    .dataframe tbody tr th:only-of-type {\n",
       "        vertical-align: middle;\n",
       "    }\n",
       "\n",
       "    .dataframe tbody tr th {\n",
       "        vertical-align: top;\n",
       "    }\n",
       "\n",
       "    .dataframe thead th {\n",
       "        text-align: right;\n",
       "    }\n",
       "</style>\n",
       "<table border=\"1\" class=\"dataframe\">\n",
       "  <thead>\n",
       "    <tr style=\"text-align: right;\">\n",
       "      <th></th>\n",
       "      <th>sepal length (cm)</th>\n",
       "      <th>sepal width (cm)</th>\n",
       "      <th>petal length (cm)</th>\n",
       "      <th>petal width (cm)</th>\n",
       "    </tr>\n",
       "  </thead>\n",
       "  <tbody>\n",
       "    <tr>\n",
       "      <th>0</th>\n",
       "      <td>-0.900681</td>\n",
       "      <td>1.019004</td>\n",
       "      <td>-1.340227</td>\n",
       "      <td>-1.315444</td>\n",
       "    </tr>\n",
       "    <tr>\n",
       "      <th>1</th>\n",
       "      <td>-1.143017</td>\n",
       "      <td>-0.131979</td>\n",
       "      <td>-1.340227</td>\n",
       "      <td>-1.315444</td>\n",
       "    </tr>\n",
       "    <tr>\n",
       "      <th>2</th>\n",
       "      <td>-1.385353</td>\n",
       "      <td>0.328414</td>\n",
       "      <td>-1.397064</td>\n",
       "      <td>-1.315444</td>\n",
       "    </tr>\n",
       "    <tr>\n",
       "      <th>3</th>\n",
       "      <td>-1.506521</td>\n",
       "      <td>0.098217</td>\n",
       "      <td>-1.283389</td>\n",
       "      <td>-1.315444</td>\n",
       "    </tr>\n",
       "    <tr>\n",
       "      <th>4</th>\n",
       "      <td>-1.021849</td>\n",
       "      <td>1.249201</td>\n",
       "      <td>-1.340227</td>\n",
       "      <td>-1.315444</td>\n",
       "    </tr>\n",
       "    <tr>\n",
       "      <th>...</th>\n",
       "      <td>...</td>\n",
       "      <td>...</td>\n",
       "      <td>...</td>\n",
       "      <td>...</td>\n",
       "    </tr>\n",
       "    <tr>\n",
       "      <th>145</th>\n",
       "      <td>1.038005</td>\n",
       "      <td>-0.131979</td>\n",
       "      <td>0.819596</td>\n",
       "      <td>1.448832</td>\n",
       "    </tr>\n",
       "    <tr>\n",
       "      <th>146</th>\n",
       "      <td>0.553333</td>\n",
       "      <td>-1.282963</td>\n",
       "      <td>0.705921</td>\n",
       "      <td>0.922303</td>\n",
       "    </tr>\n",
       "    <tr>\n",
       "      <th>147</th>\n",
       "      <td>0.795669</td>\n",
       "      <td>-0.131979</td>\n",
       "      <td>0.819596</td>\n",
       "      <td>1.053935</td>\n",
       "    </tr>\n",
       "    <tr>\n",
       "      <th>148</th>\n",
       "      <td>0.432165</td>\n",
       "      <td>0.788808</td>\n",
       "      <td>0.933271</td>\n",
       "      <td>1.448832</td>\n",
       "    </tr>\n",
       "    <tr>\n",
       "      <th>149</th>\n",
       "      <td>0.068662</td>\n",
       "      <td>-0.131979</td>\n",
       "      <td>0.762758</td>\n",
       "      <td>0.790671</td>\n",
       "    </tr>\n",
       "  </tbody>\n",
       "</table>\n",
       "<p>150 rows × 4 columns</p>\n",
       "</div>"
      ],
      "text/plain": [
       "     sepal length (cm)  sepal width (cm)  petal length (cm)  petal width (cm)\n",
       "0            -0.900681          1.019004          -1.340227         -1.315444\n",
       "1            -1.143017         -0.131979          -1.340227         -1.315444\n",
       "2            -1.385353          0.328414          -1.397064         -1.315444\n",
       "3            -1.506521          0.098217          -1.283389         -1.315444\n",
       "4            -1.021849          1.249201          -1.340227         -1.315444\n",
       "..                 ...               ...                ...               ...\n",
       "145           1.038005         -0.131979           0.819596          1.448832\n",
       "146           0.553333         -1.282963           0.705921          0.922303\n",
       "147           0.795669         -0.131979           0.819596          1.053935\n",
       "148           0.432165          0.788808           0.933271          1.448832\n",
       "149           0.068662         -0.131979           0.762758          0.790671\n",
       "\n",
       "[150 rows x 4 columns]"
      ]
     },
     "execution_count": 19,
     "metadata": {},
     "output_type": "execute_result"
    }
   ],
   "source": [
    "ss = StandardScaler()\n",
    "df = ss.fit_transform(df)\n",
    "df = pd.DataFrame(df, columns = iris.feature_names)\n",
    "df"
   ]
  },
  {
   "cell_type": "markdown",
   "id": "6d84b93e",
   "metadata": {},
   "source": [
    "## Reduction de dimension (PCA)\n",
    "Nous allons chercher des clusters avec plusieurs colonnes de données ce qui revient à placer nos centroïdes et nos points sur plusieurs dimensions. Si nous voulons visualiser nos clusters il nous faut réduire nos dimensions avec 2 features. ( ici PC1 et PC2 ) "
   ]
  },
  {
   "cell_type": "code",
   "execution_count": 20,
   "id": "f7ef3c17",
   "metadata": {},
   "outputs": [
    {
     "data": {
      "text/html": [
       "<div>\n",
       "<style scoped>\n",
       "    .dataframe tbody tr th:only-of-type {\n",
       "        vertical-align: middle;\n",
       "    }\n",
       "\n",
       "    .dataframe tbody tr th {\n",
       "        vertical-align: top;\n",
       "    }\n",
       "\n",
       "    .dataframe thead th {\n",
       "        text-align: right;\n",
       "    }\n",
       "</style>\n",
       "<table border=\"1\" class=\"dataframe\">\n",
       "  <thead>\n",
       "    <tr style=\"text-align: right;\">\n",
       "      <th></th>\n",
       "      <th>PC1</th>\n",
       "      <th>PC2</th>\n",
       "    </tr>\n",
       "  </thead>\n",
       "  <tbody>\n",
       "    <tr>\n",
       "      <th>0</th>\n",
       "      <td>-2.264703</td>\n",
       "      <td>0.480027</td>\n",
       "    </tr>\n",
       "    <tr>\n",
       "      <th>1</th>\n",
       "      <td>-2.080961</td>\n",
       "      <td>-0.674134</td>\n",
       "    </tr>\n",
       "    <tr>\n",
       "      <th>2</th>\n",
       "      <td>-2.364229</td>\n",
       "      <td>-0.341908</td>\n",
       "    </tr>\n",
       "    <tr>\n",
       "      <th>3</th>\n",
       "      <td>-2.299384</td>\n",
       "      <td>-0.597395</td>\n",
       "    </tr>\n",
       "    <tr>\n",
       "      <th>4</th>\n",
       "      <td>-2.389842</td>\n",
       "      <td>0.646835</td>\n",
       "    </tr>\n",
       "  </tbody>\n",
       "</table>\n",
       "</div>"
      ],
      "text/plain": [
       "        PC1       PC2\n",
       "0 -2.264703  0.480027\n",
       "1 -2.080961 -0.674134\n",
       "2 -2.364229 -0.341908\n",
       "3 -2.299384 -0.597395\n",
       "4 -2.389842  0.646835"
      ]
     },
     "execution_count": 20,
     "metadata": {},
     "output_type": "execute_result"
    }
   ],
   "source": [
    "pca = PCA(n_components=2)\n",
    "X = pca.fit_transform(df)\n",
    "X = pd.DataFrame(X, columns=['PC1', 'PC2'])\n",
    "X.head()"
   ]
  },
  {
   "cell_type": "code",
   "execution_count": 21,
   "id": "d0c55798",
   "metadata": {},
   "outputs": [
    {
     "data": {
      "image/png": "[encoded data removed]",
      "text/plain": [
       "<Figure size 576x432 with 1 Axes>"
      ]
     },
     "metadata": {
      "needs_background": "light"
     },
     "output_type": "display_data"
    }
   ],
   "source": [
    "# Visualisation\n",
    "plt.figure(figsize=(8, 6))\n",
    "plt.scatter(X['PC1'], X['PC2'])\n",
    "plt.xlabel('PC1')\n",
    "plt.ylabel('PC2')\n",
    "plt.title('Nos données à clusteriser')\n",
    "plt.show()"
   ]
  },
  {
   "cell_type": "markdown",
   "id": "0bfa1b11",
   "metadata": {},
   "source": [
    "## Recherche de la valeur k\n",
    "\n",
    "Pour trouver la valeur k nous utilisons la méthode elbow, basée sur la minimisation de la somme des carrés des écarts à l’intérieur des clusters."
   ]
  },
  {
   "cell_type": "code",
   "execution_count": 22,
   "id": "9dabcf68",
   "metadata": {},
   "outputs": [
    {
     "name": "stderr",
     "output_type": "stream",
     "text": [
      "C:\\Users\\utilisateur\\anaconda3\\lib\\site-packages\\sklearn\\cluster\\_kmeans.py:1036: UserWarning: KMeans is known to have a memory leak on Windows with MKL, when there are less chunks than available threads. You can avoid it by setting the environment variable OMP_NUM_THREADS=1.\n",
      "  warnings.warn(\n"
     ]
    }
   ],
   "source": [
    "sum_of_squared = []\n",
    "for k in range(1,12):\n",
    "    kmeans = KMeans(n_clusters=k)\n",
    "    kmeans.fit(X)\n",
    "    sum_of_squared.append(kmeans.inertia_) "
   ]
  },
  {
   "cell_type": "code",
   "execution_count": 23,
   "id": "a021254d",
   "metadata": {},
   "outputs": [
    {
     "data": {
      "image/png": "[encoded data removed]",
      "text/plain": [
       "<Figure size 432x288 with 1 Axes>"
      ]
     },
     "metadata": {
      "needs_background": "light"
     },
     "output_type": "display_data"
    }
   ],
   "source": [
    "plt.plot(range(1, 12), sum_of_squared)\n",
    "plt.xticks(range(1,12))\n",
    "plt.xlabel('Nombre de clusters')\n",
    "plt.ylabel('Total sommes des carrés')\n",
    "plt.title('The elbow method - Recherche du k optimal')\n",
    "plt.show()"
   ]
  },
  {
   "cell_type": "markdown",
   "id": "ff8c93ce",
   "metadata": {},
   "source": [
    "Assez logiquement plus le nombre de clusters est élevé, moins les erreurs sont fortes.\n",
    "\n",
    "L'augmentation du nombre de clusters améliore naturellement l'ajustement mais à un moment donné, cela est trop ajusté, et le coude reflète cela ( overfitting )\n",
    "\n",
    "Nous choississons k = 3 puisque c'est à cette valeur que nous visualisons un coude ( k = 2 était un choix possible également )\n",
    "\n"
   ]
  },
  {
   "cell_type": "markdown",
   "id": "61b8b4a9",
   "metadata": {},
   "source": [
    "## Entrainement du modèle"
   ]
  },
  {
   "cell_type": "code",
   "execution_count": 26,
   "id": "0f82361e",
   "metadata": {},
   "outputs": [
    {
     "name": "stdout",
     "output_type": "stream",
     "text": [
      "\n",
      "Voici les labels trouvés par notre modèle:\n",
      " [0 0 0 0 0 0 0 0 0 0 0 0 0 0 0 0 0 0 0 0 0 0 0 0 0 0 0 0 0 0 0 0 0 0 0 0 0\n",
      " 0 0 0 0 0 0 0 0 0 0 0 0 0 2 2 2 1 1 1 2 1 1 1 1 1 1 1 1 2 1 1 1 1 2 1 1 1\n",
      " 1 2 2 2 1 1 1 1 1 1 1 2 2 1 1 1 1 1 1 1 1 1 1 1 1 1 2 1 2 2 2 2 1 2 2 2 2\n",
      " 2 2 1 1 2 2 2 2 1 2 1 2 1 2 2 1 2 2 2 2 2 2 1 1 2 2 2 1 2 2 2 1 2 2 2 1 2\n",
      " 2 1]\n",
      "Somme des erreurs au carré : 115.02075663594022\n"
     ]
    }
   ],
   "source": [
    "k = 3\n",
    "model = KMeans(n_clusters=k)\n",
    "model.fit(X)\n",
    "print()\n",
    "print(\"Voici les labels trouvés par notre modèle:\\n\",model.labels_)\n",
    "print(\"Somme des erreurs au carré :\",model.inertia_)"
   ]
  },
  {
   "cell_type": "markdown",
   "id": "4609285d",
   "metadata": {},
   "source": [
    "## Visualisation des clusters"
   ]
  },
  {
   "cell_type": "code",
   "execution_count": 29,
   "id": "8db59ae3",
   "metadata": {},
   "outputs": [
    {
     "data": {
      "text/plain": [
       "Text(0.5, 1.0, 'Visualisation des clusters')"
      ]
     },
     "execution_count": 29,
     "metadata": {},
     "output_type": "execute_result"
    },
    {
     "data": {
      "image/png": "[encoded data removed]",
      "text/plain": [
       "<Figure size 864x720 with 1 Axes>"
      ]
     },
     "metadata": {
      "needs_background": "light"
     },
     "output_type": "display_data"
    }
   ],
   "source": [
    "# Evaluate the model\n",
    "plt.figure(figsize=(12, 10))\n",
    "colors = ['orange','green','blue']\n",
    "pred = model.predict(X)\n",
    "for idx in range(3):\n",
    "    plt.scatter(X[pred == idx]['PC1'], X[pred == idx]['PC2'], c = colors[idx], lw=7)\n",
    "plt.xlabel('PC1')\n",
    "plt.ylabel('PC2')\n",
    "plt.title('Visualisation des clusters', fontsize = 20)"
   ]
  }
 ],
 "metadata": {
  "kernelspec": {
   "display_name": "Python 3 (ipykernel)",
   "language": "python",
   "name": "python3"
  },
  "language_info": {
   "codemirror_mode": {
    "name": "ipython",
    "version": 3
   },
   "file_extension": ".py",
   "mimetype": "text/x-python",
   "name": "python",
   "nbconvert_exporter": "python",
   "pygments_lexer": "ipython3",
   "version": "3.9.12"
  }
 },
 "nbformat": 4,
 "nbformat_minor": 5
}
